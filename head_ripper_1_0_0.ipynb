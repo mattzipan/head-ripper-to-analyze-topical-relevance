{
  "nbformat": 4,
  "nbformat_minor": 0,
  "metadata": {
    "colab": {
      "name": "head-ripper-1.0.0.ipynb",
      "provenance": [],
      "collapsed_sections": []
    },
    "kernelspec": {
      "name": "python3",
      "display_name": "Python 3"
    }
  },
  "cells": [
    {
      "cell_type": "markdown",
      "metadata": {
        "id": "QzTJAhfCd3sn"
      },
      "source": [
        "# Head ripper tool to analyze topical relevance for On-Page SEO\n",
        "Read the how to guide on http://bluerivermountains.com/en/head-ripper-method"
      ]
    },
    {
      "cell_type": "code",
      "metadata": {
        "id": "TiXB4eiSM601"
      },
      "source": [
        "!pip install --upgrade gspread\n",
        "!pip install requests\n",
        "!pip install requests-HTML\n",
        "\n",
        "import requests\n",
        "from requests_html import HTMLSession\n",
        "\n",
        "from google.colab import auth\n",
        "auth.authenticate_user()\n",
        "\n",
        "import gspread\n",
        "from oauth2client.client import GoogleCredentials\n",
        "\n",
        "gc = gspread.authorize(GoogleCredentials.get_application_default())"
      ],
      "execution_count": null,
      "outputs": []
    },
    {
      "cell_type": "code",
      "metadata": {
        "id": "4KjCufYxhNEY"
      },
      "source": [
        "#@title Enter URLs to rip headers from\n",
        "url1 = \"\" #@param {type:\"string\"}\n",
        "url2 = \"\" #@param {type:\"string\"}\n",
        "url3 = \"\" #@param {type:\"string\"}\n",
        "url4 = \"\" #@param {type:\"string\"}\n",
        "url5 = \"\" #@param {type:\"string\"}\n",
        "url6 = \"\" #@param {type:\"string\"}\n",
        "url7 = \"\" #@param {type:\"string\"}\n",
        "url8 = \"\" #@param {type:\"string\"}\n",
        "url9 = \"\" #@param {type:\"string\"}\n",
        "url10 = \"\" #@param {type:\"string\"}\n",
        "\n",
        "sheetName = \"Head Ripper - Analysis of competitors subtopics\" #@param {type:\"string\"}\n",
        "\n",
        "rawList = [url1,url2,url3,url4,url5,url6,url7,url8,url9,url10]\n",
        "\n",
        "#clean list from empty entries\n",
        "urlList = list(filter(None, rawList))"
      ],
      "execution_count": null,
      "outputs": []
    },
    {
      "cell_type": "markdown",
      "metadata": {
        "id": "SP5VAZurPMCo"
      },
      "source": [
        "## Get all headers"
      ]
    },
    {
      "cell_type": "code",
      "metadata": {
        "id": "sIJ0aqO3PH5m"
      },
      "source": [
        "headerBank = []\n",
        "for url in urlList:\n",
        "  try:\n",
        "      session = HTMLSession()\n",
        "      response = session.get(url)\n",
        "      \n",
        "  except requests.exceptions.RequestException as e:\n",
        "      print(e)\n",
        "\n",
        "  headerList =  response.html.find('h1, h2, h3, h4, h5, h6')\n",
        "  titleTag = response.html.find('title')\n",
        "\n",
        "  # create element in list for each url\n",
        "  headerBank.append({\n",
        "      \"url\": url,\n",
        "      \"title\": titleTag[0].text,\n",
        "      \"headers\": []\n",
        "  })\n",
        "\n",
        "  # add header data to each element\n",
        "  for id, header in enumerate(headerList):\n",
        "    headerBank[-1][\"headers\"].append({\n",
        "          \"headerIndex\": id,\n",
        "          \"headerText\": header.text,\n",
        "          \"headerType\": header.tag\n",
        "        })\n",
        "\n",
        "# add data to Gsheet    \n",
        "sh = gc.create(sheetName)\n",
        "\n",
        "worksheet = gc.open(sheetName).sheet1\n",
        "\n",
        "worksheet.update('A1', 'URL')\n",
        "worksheet.update('A2', 'Title')\n",
        "\n",
        "\n",
        "# load alphabet to iterate through\n",
        "from string import ascii_lowercase\n",
        "\n",
        "# insert urls\n",
        "for j,page in enumerate(headerBank):\n",
        "  worksheet.update(ascii_lowercase[j+1]+str(1), page['url'])\n",
        "\n",
        "# insert titles\n",
        "for j,page in enumerate(headerBank):\n",
        "  worksheet.update(ascii_lowercase[j+1]+str(2), page['title'])\n",
        "\n",
        "# insert headers  \n",
        "for i,page in enumerate(headerBank):\n",
        "  for j,header in enumerate(page['headers']):\n",
        "    worksheet.update(ascii_lowercase[i+1]+str(j+3), header[\"headerType\"] + \" - \" + header[\"headerText\"])\n",
        "\n",
        "\n",
        "    "
      ],
      "execution_count": null,
      "outputs": []
    }
  ]
}